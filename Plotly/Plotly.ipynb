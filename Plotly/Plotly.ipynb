{
 "cells": [
  {
   "cell_type": "code",
   "execution_count": 1,
   "id": "95647298",
   "metadata": {},
   "outputs": [
    {
     "name": "stdout",
     "output_type": "stream",
     "text": [
      "Requirement already satisfied: plotly in s:\\anaconda\\lib\\site-packages (5.6.0)\n",
      "Requirement already satisfied: six in s:\\anaconda\\lib\\site-packages (from plotly) (1.16.0)\n",
      "Requirement already satisfied: tenacity>=6.2.0 in s:\\anaconda\\lib\\site-packages (from plotly) (8.0.1)\n"
     ]
    }
   ],
   "source": [
    "!pip install plotly"
   ]
  },
  {
   "cell_type": "code",
   "execution_count": 6,
   "id": "20275310",
   "metadata": {},
   "outputs": [],
   "source": [
    "import plotly.offline as pt\n",
    "import plotly.graph_objs as go\n",
    "import pandas as pd\n",
    "import numpy as np\n",
    "import matplotlib.pyplot as plt\n",
    "%matplotlib inline"
   ]
  },
  {
   "cell_type": "code",
   "execution_count": 4,
   "id": "c2a9c0ca",
   "metadata": {},
   "outputs": [
    {
     "data": {
      "text/html": [
       "<div>\n",
       "<style scoped>\n",
       "    .dataframe tbody tr th:only-of-type {\n",
       "        vertical-align: middle;\n",
       "    }\n",
       "\n",
       "    .dataframe tbody tr th {\n",
       "        vertical-align: top;\n",
       "    }\n",
       "\n",
       "    .dataframe thead th {\n",
       "        text-align: right;\n",
       "    }\n",
       "</style>\n",
       "<table border=\"1\" class=\"dataframe\">\n",
       "  <thead>\n",
       "    <tr style=\"text-align: right;\">\n",
       "      <th></th>\n",
       "      <th>Row ID</th>\n",
       "      <th>Order ID</th>\n",
       "      <th>Order Date</th>\n",
       "      <th>Order Priority</th>\n",
       "      <th>Order Quantity</th>\n",
       "      <th>Sales</th>\n",
       "      <th>Discount</th>\n",
       "      <th>Ship Mode</th>\n",
       "      <th>Profit</th>\n",
       "      <th>Unit Price</th>\n",
       "      <th>...</th>\n",
       "      <th>Customer Name</th>\n",
       "      <th>Province</th>\n",
       "      <th>Region</th>\n",
       "      <th>Customer Segment</th>\n",
       "      <th>Product Category</th>\n",
       "      <th>Product Sub-Category</th>\n",
       "      <th>Product Name</th>\n",
       "      <th>Product Container</th>\n",
       "      <th>Product Base Margin</th>\n",
       "      <th>Ship Date</th>\n",
       "    </tr>\n",
       "  </thead>\n",
       "  <tbody>\n",
       "    <tr>\n",
       "      <th>0</th>\n",
       "      <td>1.0</td>\n",
       "      <td>3.0</td>\n",
       "      <td>2010-10-13</td>\n",
       "      <td>Low</td>\n",
       "      <td>6.0</td>\n",
       "      <td>261.5400</td>\n",
       "      <td>0.04</td>\n",
       "      <td>Regular Air</td>\n",
       "      <td>-213.2500</td>\n",
       "      <td>38.94</td>\n",
       "      <td>...</td>\n",
       "      <td>Muhammed MacIntyre</td>\n",
       "      <td>Nunavut</td>\n",
       "      <td>Nunavut</td>\n",
       "      <td>Small Business</td>\n",
       "      <td>Office Supplies</td>\n",
       "      <td>Storage &amp; Organization</td>\n",
       "      <td>Eldon Base for stackable storage shelf, platinum</td>\n",
       "      <td>Large Box</td>\n",
       "      <td>0.80</td>\n",
       "      <td>2010-10-20</td>\n",
       "    </tr>\n",
       "    <tr>\n",
       "      <th>1</th>\n",
       "      <td>49.0</td>\n",
       "      <td>293.0</td>\n",
       "      <td>2012-10-01</td>\n",
       "      <td>High</td>\n",
       "      <td>49.0</td>\n",
       "      <td>10123.0200</td>\n",
       "      <td>0.07</td>\n",
       "      <td>Delivery Truck</td>\n",
       "      <td>457.8100</td>\n",
       "      <td>208.16</td>\n",
       "      <td>...</td>\n",
       "      <td>Barry French</td>\n",
       "      <td>Nunavut</td>\n",
       "      <td>Nunavut</td>\n",
       "      <td>Consumer</td>\n",
       "      <td>Office Supplies</td>\n",
       "      <td>Appliances</td>\n",
       "      <td>1.7 Cubic Foot Compact \"Cube\" Office Refrigera...</td>\n",
       "      <td>Jumbo Drum</td>\n",
       "      <td>0.58</td>\n",
       "      <td>2012-10-02</td>\n",
       "    </tr>\n",
       "    <tr>\n",
       "      <th>2</th>\n",
       "      <td>50.0</td>\n",
       "      <td>293.0</td>\n",
       "      <td>2012-10-01</td>\n",
       "      <td>High</td>\n",
       "      <td>27.0</td>\n",
       "      <td>244.5700</td>\n",
       "      <td>0.01</td>\n",
       "      <td>Regular Air</td>\n",
       "      <td>46.7075</td>\n",
       "      <td>8.69</td>\n",
       "      <td>...</td>\n",
       "      <td>Barry French</td>\n",
       "      <td>Nunavut</td>\n",
       "      <td>Nunavut</td>\n",
       "      <td>Consumer</td>\n",
       "      <td>Office Supplies</td>\n",
       "      <td>Binders and Binder Accessories</td>\n",
       "      <td>Cardinal Slant-D® Ring Binder, Heavy Gauge Vinyl</td>\n",
       "      <td>Small Box</td>\n",
       "      <td>0.39</td>\n",
       "      <td>2012-10-03</td>\n",
       "    </tr>\n",
       "    <tr>\n",
       "      <th>3</th>\n",
       "      <td>80.0</td>\n",
       "      <td>483.0</td>\n",
       "      <td>2011-07-10</td>\n",
       "      <td>High</td>\n",
       "      <td>30.0</td>\n",
       "      <td>4965.7595</td>\n",
       "      <td>0.08</td>\n",
       "      <td>Regular Air</td>\n",
       "      <td>1198.9710</td>\n",
       "      <td>195.99</td>\n",
       "      <td>...</td>\n",
       "      <td>Clay Rozendal</td>\n",
       "      <td>Nunavut</td>\n",
       "      <td>Nunavut</td>\n",
       "      <td>Corporate</td>\n",
       "      <td>Technology</td>\n",
       "      <td>Telephones and Communication</td>\n",
       "      <td>R380</td>\n",
       "      <td>Small Box</td>\n",
       "      <td>0.58</td>\n",
       "      <td>2011-07-12</td>\n",
       "    </tr>\n",
       "    <tr>\n",
       "      <th>4</th>\n",
       "      <td>85.0</td>\n",
       "      <td>515.0</td>\n",
       "      <td>2010-08-28</td>\n",
       "      <td>Not Specified</td>\n",
       "      <td>19.0</td>\n",
       "      <td>394.2700</td>\n",
       "      <td>0.08</td>\n",
       "      <td>Regular Air</td>\n",
       "      <td>30.9400</td>\n",
       "      <td>21.78</td>\n",
       "      <td>...</td>\n",
       "      <td>Carlos Soltero</td>\n",
       "      <td>Nunavut</td>\n",
       "      <td>Nunavut</td>\n",
       "      <td>Consumer</td>\n",
       "      <td>Office Supplies</td>\n",
       "      <td>Appliances</td>\n",
       "      <td>Holmes HEPA Air Purifier</td>\n",
       "      <td>Medium Box</td>\n",
       "      <td>0.50</td>\n",
       "      <td>2010-08-30</td>\n",
       "    </tr>\n",
       "  </tbody>\n",
       "</table>\n",
       "<p>5 rows × 21 columns</p>\n",
       "</div>"
      ],
      "text/plain": [
       "   Row ID  Order ID Order Date Order Priority  Order Quantity       Sales  \\\n",
       "0     1.0       3.0 2010-10-13            Low             6.0    261.5400   \n",
       "1    49.0     293.0 2012-10-01           High            49.0  10123.0200   \n",
       "2    50.0     293.0 2012-10-01           High            27.0    244.5700   \n",
       "3    80.0     483.0 2011-07-10           High            30.0   4965.7595   \n",
       "4    85.0     515.0 2010-08-28  Not Specified            19.0    394.2700   \n",
       "\n",
       "   Discount       Ship Mode     Profit  Unit Price  ...       Customer Name  \\\n",
       "0      0.04     Regular Air  -213.2500       38.94  ...  Muhammed MacIntyre   \n",
       "1      0.07  Delivery Truck   457.8100      208.16  ...        Barry French   \n",
       "2      0.01     Regular Air    46.7075        8.69  ...        Barry French   \n",
       "3      0.08     Regular Air  1198.9710      195.99  ...       Clay Rozendal   \n",
       "4      0.08     Regular Air    30.9400       21.78  ...      Carlos Soltero   \n",
       "\n",
       "  Province   Region Customer Segment Product Category  \\\n",
       "0  Nunavut  Nunavut   Small Business  Office Supplies   \n",
       "1  Nunavut  Nunavut         Consumer  Office Supplies   \n",
       "2  Nunavut  Nunavut         Consumer  Office Supplies   \n",
       "3  Nunavut  Nunavut        Corporate       Technology   \n",
       "4  Nunavut  Nunavut         Consumer  Office Supplies   \n",
       "\n",
       "             Product Sub-Category  \\\n",
       "0          Storage & Organization   \n",
       "1                      Appliances   \n",
       "2  Binders and Binder Accessories   \n",
       "3    Telephones and Communication   \n",
       "4                      Appliances   \n",
       "\n",
       "                                        Product Name Product Container  \\\n",
       "0   Eldon Base for stackable storage shelf, platinum         Large Box   \n",
       "1  1.7 Cubic Foot Compact \"Cube\" Office Refrigera...        Jumbo Drum   \n",
       "2   Cardinal Slant-D® Ring Binder, Heavy Gauge Vinyl         Small Box   \n",
       "3                                               R380         Small Box   \n",
       "4                           Holmes HEPA Air Purifier        Medium Box   \n",
       "\n",
       "  Product Base Margin  Ship Date  \n",
       "0                0.80 2010-10-20  \n",
       "1                0.58 2012-10-02  \n",
       "2                0.39 2012-10-03  \n",
       "3                0.58 2011-07-12  \n",
       "4                0.50 2010-08-30  \n",
       "\n",
       "[5 rows x 21 columns]"
      ]
     },
     "execution_count": 4,
     "metadata": {},
     "output_type": "execute_result"
    }
   ],
   "source": [
    "df=pd.read_excel('sales.xlsx')\n",
    "df.head()"
   ]
  },
  {
   "cell_type": "code",
   "execution_count": 4,
   "id": "2d7ff4e7",
   "metadata": {},
   "outputs": [
    {
     "data": {
      "text/plain": [
       "[<matplotlib.lines.Line2D at 0x18f2c6ded30>]"
      ]
     },
     "execution_count": 4,
     "metadata": {},
     "output_type": "execute_result"
    },
    {
     "data": {
      "image/png": "[encoded data removed]",
      "text/plain": [
       "<Figure size 432x288 with 1 Axes>"
      ]
     },
     "metadata": {
      "needs_background": "light"
     },
     "output_type": "display_data"
    }
   ],
   "source": [
    "plt.plot(df.Sales)"
   ]
  },
  {
   "cell_type": "code",
   "execution_count": 5,
   "id": "1655caed",
   "metadata": {},
   "outputs": [
    {
     "data": {
      "text/plain": [
       "'temp-plot.html'"
      ]
     },
     "execution_count": 5,
     "metadata": {},
     "output_type": "execute_result"
    }
   ],
   "source": [
    "pt.plot([{\n",
    "    'x':df.index,\n",
    "    'y':df.Sales\n",
    " }])"
   ]
  },
  {
   "cell_type": "code",
   "execution_count": 6,
   "id": "3fa5aa67",
   "metadata": {},
   "outputs": [
    {
     "data": {
      "text/html": [
       "<div>\n",
       "<style scoped>\n",
       "    .dataframe tbody tr th:only-of-type {\n",
       "        vertical-align: middle;\n",
       "    }\n",
       "\n",
       "    .dataframe tbody tr th {\n",
       "        vertical-align: top;\n",
       "    }\n",
       "\n",
       "    .dataframe thead th {\n",
       "        text-align: right;\n",
       "    }\n",
       "</style>\n",
       "<table border=\"1\" class=\"dataframe\">\n",
       "  <thead>\n",
       "    <tr style=\"text-align: right;\">\n",
       "      <th></th>\n",
       "      <th>Sales</th>\n",
       "      <th>Profit</th>\n",
       "    </tr>\n",
       "  </thead>\n",
       "  <tbody>\n",
       "    <tr>\n",
       "      <th>0</th>\n",
       "      <td>261.5400</td>\n",
       "      <td>-213.2500</td>\n",
       "    </tr>\n",
       "    <tr>\n",
       "      <th>1</th>\n",
       "      <td>10123.0200</td>\n",
       "      <td>457.8100</td>\n",
       "    </tr>\n",
       "    <tr>\n",
       "      <th>2</th>\n",
       "      <td>244.5700</td>\n",
       "      <td>46.7075</td>\n",
       "    </tr>\n",
       "    <tr>\n",
       "      <th>3</th>\n",
       "      <td>4965.7595</td>\n",
       "      <td>1198.9710</td>\n",
       "    </tr>\n",
       "    <tr>\n",
       "      <th>4</th>\n",
       "      <td>394.2700</td>\n",
       "      <td>30.9400</td>\n",
       "    </tr>\n",
       "  </tbody>\n",
       "</table>\n",
       "</div>"
      ],
      "text/plain": [
       "        Sales     Profit\n",
       "0    261.5400  -213.2500\n",
       "1  10123.0200   457.8100\n",
       "2    244.5700    46.7075\n",
       "3   4965.7595  1198.9710\n",
       "4    394.2700    30.9400"
      ]
     },
     "execution_count": 6,
     "metadata": {},
     "output_type": "execute_result"
    }
   ],
   "source": [
    "df_sp=df[['Sales','Profit']]\n",
    "df_sp.head()"
   ]
  },
  {
   "cell_type": "code",
   "execution_count": 7,
   "id": "2c530f17",
   "metadata": {},
   "outputs": [
    {
     "data": {
      "text/plain": [
       "'temp-plot.html'"
      ]
     },
     "execution_count": 7,
     "metadata": {},
     "output_type": "execute_result"
    }
   ],
   "source": [
    "pt.plot([{\n",
    "    'x':df_sp.index,\n",
    "    'y':df_sp[col],\n",
    "    'name':col\n",
    "}for col in df_sp.columns])"
   ]
  },
  {
   "cell_type": "markdown",
   "id": "f1c4b51d",
   "metadata": {},
   "source": [
    "### Scatter Plot"
   ]
  },
  {
   "cell_type": "code",
   "execution_count": 8,
   "id": "561e1c72",
   "metadata": {},
   "outputs": [],
   "source": [
    "import plotly.graph_objs as go"
   ]
  },
  {
   "cell_type": "code",
   "execution_count": 9,
   "id": "22991555",
   "metadata": {},
   "outputs": [
    {
     "data": {
      "text/plain": [
       "'temp-plot.html'"
      ]
     },
     "execution_count": 9,
     "metadata": {},
     "output_type": "execute_result"
    }
   ],
   "source": [
    "pt.plot([\n",
    "    go.Scatter(\n",
    "        x=df_sp.Sales,\n",
    "        y=df_sp.Profit,\n",
    "        mode='markers'\n",
    "    \n",
    "    )])"
   ]
  },
  {
   "cell_type": "code",
   "execution_count": 10,
   "id": "02bc2ed5",
   "metadata": {},
   "outputs": [
    {
     "data": {
      "text/plain": [
       "'temp-plot.html'"
      ]
     },
     "execution_count": 10,
     "metadata": {},
     "output_type": "execute_result"
    }
   ],
   "source": [
    "data= go.Scatter(\n",
    "        x=df_sp.Sales,\n",
    "        y=df_sp.Profit,\n",
    "        mode='markers'\n",
    "    )\n",
    "\n",
    "pt.plot([data])"
   ]
  },
  {
   "cell_type": "code",
   "execution_count": 19,
   "id": "96deedb4",
   "metadata": {},
   "outputs": [
    {
     "data": {
      "text/plain": [
       "'temp-plot.html'"
      ]
     },
     "execution_count": 19,
     "metadata": {},
     "output_type": "execute_result"
    }
   ],
   "source": [
    "data= [go.Scatter(\n",
    "        x=df_sp.Sales,\n",
    "        y=df_sp.Profit,\n",
    "        mode='markers')]\n",
    "\n",
    "layout=go.Layout(title='Sales vs Profit chart',\n",
    "                 xaxis=dict(title='Sales'),\n",
    "                 yaxis=dict(title='Profit'))\n",
    "\n",
    "figure=go.Figure(data=data,layout=layout)\n",
    "\n",
    "pt.plot(figure)"
   ]
  },
  {
   "cell_type": "markdown",
   "id": "d47dc433",
   "metadata": {},
   "source": [
    "### Bar Chart"
   ]
  },
  {
   "cell_type": "code",
   "execution_count": 22,
   "id": "9cfb2f3d",
   "metadata": {},
   "outputs": [
    {
     "data": {
      "text/html": [
       "<div>\n",
       "<style scoped>\n",
       "    .dataframe tbody tr th:only-of-type {\n",
       "        vertical-align: middle;\n",
       "    }\n",
       "\n",
       "    .dataframe tbody tr th {\n",
       "        vertical-align: top;\n",
       "    }\n",
       "\n",
       "    .dataframe thead th {\n",
       "        text-align: right;\n",
       "    }\n",
       "</style>\n",
       "<table border=\"1\" class=\"dataframe\">\n",
       "  <thead>\n",
       "    <tr style=\"text-align: right;\">\n",
       "      <th></th>\n",
       "      <th>Sales</th>\n",
       "    </tr>\n",
       "    <tr>\n",
       "      <th>Order Priority</th>\n",
       "      <th></th>\n",
       "    </tr>\n",
       "  </thead>\n",
       "  <tbody>\n",
       "    <tr>\n",
       "      <th>Critical</th>\n",
       "      <td>1694.526538</td>\n",
       "    </tr>\n",
       "    <tr>\n",
       "      <th>High</th>\n",
       "      <td>1848.052240</td>\n",
       "    </tr>\n",
       "    <tr>\n",
       "      <th>Low</th>\n",
       "      <td>1908.506033</td>\n",
       "    </tr>\n",
       "    <tr>\n",
       "      <th>Medium</th>\n",
       "      <td>1755.028890</td>\n",
       "    </tr>\n",
       "    <tr>\n",
       "      <th>Not Specified</th>\n",
       "      <td>1661.700536</td>\n",
       "    </tr>\n",
       "  </tbody>\n",
       "</table>\n",
       "</div>"
      ],
      "text/plain": [
       "                      Sales\n",
       "Order Priority             \n",
       "Critical        1694.526538\n",
       "High            1848.052240\n",
       "Low             1908.506033\n",
       "Medium          1755.028890\n",
       "Not Specified   1661.700536"
      ]
     },
     "execution_count": 22,
     "metadata": {},
     "output_type": "execute_result"
    }
   ],
   "source": [
    "order_priority=pd.pivot_table(df,values='Sales',index='Order Priority')\n",
    "order_priority"
   ]
  },
  {
   "cell_type": "code",
   "execution_count": 26,
   "id": "f03f3c18",
   "metadata": {},
   "outputs": [
    {
     "data": {
      "text/plain": [
       "'temp-plot.html'"
      ]
     },
     "execution_count": 26,
     "metadata": {},
     "output_type": "execute_result"
    }
   ],
   "source": [
    "data= [go.Bar(\n",
    "        x=order_priority.index,\n",
    "        y=order_priority.Sales\n",
    "        )]\n",
    "\n",
    "layout=go.Layout(title='Avg sales by ship mode',\n",
    "                 xaxis=dict(title='Order Priority'),\n",
    "                 yaxis=dict(title='Avg Sales'))\n",
    "\n",
    "figure=go.Figure(data=data,layout=layout)\n",
    "\n",
    "pt.plot(figure)"
   ]
  },
  {
   "cell_type": "code",
   "execution_count": 4,
   "id": "dc350582",
   "metadata": {},
   "outputs": [
    {
     "data": {
      "text/html": [
       "<div>\n",
       "<style scoped>\n",
       "    .dataframe tbody tr th:only-of-type {\n",
       "        vertical-align: middle;\n",
       "    }\n",
       "\n",
       "    .dataframe tbody tr th {\n",
       "        vertical-align: top;\n",
       "    }\n",
       "\n",
       "    .dataframe thead th {\n",
       "        text-align: right;\n",
       "    }\n",
       "</style>\n",
       "<table border=\"1\" class=\"dataframe\">\n",
       "  <thead>\n",
       "    <tr style=\"text-align: right;\">\n",
       "      <th></th>\n",
       "      <th>Profit</th>\n",
       "      <th>Sales</th>\n",
       "    </tr>\n",
       "    <tr>\n",
       "      <th>Order Priority</th>\n",
       "      <th></th>\n",
       "      <th></th>\n",
       "    </tr>\n",
       "  </thead>\n",
       "  <tbody>\n",
       "    <tr>\n",
       "      <th>Critical</th>\n",
       "      <td>113.729373</td>\n",
       "      <td>1694.526538</td>\n",
       "    </tr>\n",
       "    <tr>\n",
       "      <th>High</th>\n",
       "      <td>230.243022</td>\n",
       "      <td>1848.052240</td>\n",
       "    </tr>\n",
       "    <tr>\n",
       "      <th>Low</th>\n",
       "      <td>224.526069</td>\n",
       "      <td>1908.506033</td>\n",
       "    </tr>\n",
       "    <tr>\n",
       "      <th>Medium</th>\n",
       "      <td>200.522195</td>\n",
       "      <td>1755.028890</td>\n",
       "    </tr>\n",
       "    <tr>\n",
       "      <th>Not Specified</th>\n",
       "      <td>130.732613</td>\n",
       "      <td>1661.700536</td>\n",
       "    </tr>\n",
       "  </tbody>\n",
       "</table>\n",
       "</div>"
      ],
      "text/plain": [
       "                    Profit        Sales\n",
       "Order Priority                         \n",
       "Critical        113.729373  1694.526538\n",
       "High            230.243022  1848.052240\n",
       "Low             224.526069  1908.506033\n",
       "Medium          200.522195  1755.028890\n",
       "Not Specified   130.732613  1661.700536"
      ]
     },
     "execution_count": 4,
     "metadata": {},
     "output_type": "execute_result"
    }
   ],
   "source": [
    "# Group Bar chart\n",
    "\n",
    "order_priority1=pd.pivot_table(df,values=['Sales','Profit'],index='Order Priority')\n",
    "order_priority1"
   ]
  },
  {
   "cell_type": "code",
   "execution_count": 9,
   "id": "2da377c6",
   "metadata": {},
   "outputs": [
    {
     "data": {
      "text/plain": [
       "'temp-plot.html'"
      ]
     },
     "execution_count": 9,
     "metadata": {},
     "output_type": "execute_result"
    }
   ],
   "source": [
    "Profit=go.Bar(\n",
    "        x=order_priority1.index,\n",
    "        y=order_priority1.Profit,\n",
    "        name='Profit'\n",
    "        )\n",
    "\n",
    "Sales=go.Bar(\n",
    "        x=order_priority1.index,\n",
    "        y=order_priority1.Sales,\n",
    "        name='Sales'\n",
    "        )\n",
    "\n",
    "data=[Profit,Sales]\n",
    "\n",
    "layout=go.Layout(title='Sales vs Profit chart')\n",
    "\n",
    "figure=go.Figure(data=data,layout=layout)\n",
    "\n",
    "pt.plot(figure)"
   ]
  },
  {
   "cell_type": "code",
   "execution_count": 17,
   "id": "7342a3d6",
   "metadata": {},
   "outputs": [
    {
     "data": {
      "text/plain": [
       "'temp-plot.html'"
      ]
     },
     "execution_count": 17,
     "metadata": {},
     "output_type": "execute_result"
    }
   ],
   "source": [
    "# Stacked Bar chart\n",
    "\n",
    "Profit=go.Bar(\n",
    "        x=order_priority1.index,\n",
    "        y=order_priority1.Profit,\n",
    "        name='Profit'\n",
    "        )\n",
    "\n",
    "Sales=go.Bar(\n",
    "        x=order_priority1.index,\n",
    "        y=order_priority1.Sales,\n",
    "        name='Sales'\n",
    "        )\n",
    "\n",
    "data=[Profit,Sales]\n",
    "\n",
    "layout=go.Layout(title='Sales vs Profit chart',barmode='stack',barnorm='percent')\n",
    "\n",
    "figure=go.Figure(data=data,layout=layout)\n",
    "\n",
    "pt.plot(figure)"
   ]
  },
  {
   "cell_type": "markdown",
   "id": "3b70fc8e",
   "metadata": {},
   "source": [
    "### Line Chart"
   ]
  },
  {
   "cell_type": "code",
   "execution_count": null,
   "id": "adbce6a9",
   "metadata": {},
   "outputs": [],
   "source": [
    "data= [go.Scatter(\n",
    "        x=df_sp.index,\n",
    "        y=df_sp.Profit,\n",
    "        mode='lines')]\n",
    "\n",
    "layout=go.Layout(title='Sales vs Profit chart',\n",
    "                 xaxis=dict(title='Sales'),\n",
    "                 yaxis=dict(title='Profit'))\n",
    "\n",
    "figure=go.Figure(data=data,layout=layout)\n",
    "\n",
    "pt.plot(figure)"
   ]
  },
  {
   "cell_type": "code",
   "execution_count": 33,
   "id": "a43f3099",
   "metadata": {},
   "outputs": [
    {
     "data": {
      "text/html": [
       "<div>\n",
       "<style scoped>\n",
       "    .dataframe tbody tr th:only-of-type {\n",
       "        vertical-align: middle;\n",
       "    }\n",
       "\n",
       "    .dataframe tbody tr th {\n",
       "        vertical-align: top;\n",
       "    }\n",
       "\n",
       "    .dataframe thead th {\n",
       "        text-align: right;\n",
       "    }\n",
       "</style>\n",
       "<table border=\"1\" class=\"dataframe\">\n",
       "  <thead>\n",
       "    <tr style=\"text-align: right;\">\n",
       "      <th></th>\n",
       "      <th>Profit</th>\n",
       "      <th>Sales</th>\n",
       "    </tr>\n",
       "    <tr>\n",
       "      <th>Order Date</th>\n",
       "      <th></th>\n",
       "      <th></th>\n",
       "    </tr>\n",
       "  </thead>\n",
       "  <tbody>\n",
       "    <tr>\n",
       "      <th>2009</th>\n",
       "      <td>201.829441</td>\n",
       "      <td>1955.011359</td>\n",
       "    </tr>\n",
       "    <tr>\n",
       "      <th>2010</th>\n",
       "      <td>169.874593</td>\n",
       "      <td>1657.180581</td>\n",
       "    </tr>\n",
       "    <tr>\n",
       "      <th>2011</th>\n",
       "      <td>190.537456</td>\n",
       "      <td>1716.691659</td>\n",
       "    </tr>\n",
       "    <tr>\n",
       "      <th>2012</th>\n",
       "      <td>162.655475</td>\n",
       "      <td>1769.725910</td>\n",
       "    </tr>\n",
       "  </tbody>\n",
       "</table>\n",
       "</div>"
      ],
      "text/plain": [
       "                Profit        Sales\n",
       "Order Date                         \n",
       "2009        201.829441  1955.011359\n",
       "2010        169.874593  1657.180581\n",
       "2011        190.537456  1716.691659\n",
       "2012        162.655475  1769.725910"
      ]
     },
     "execution_count": 33,
     "metadata": {},
     "output_type": "execute_result"
    }
   ],
   "source": [
    "date=pd.pivot_table(df,columns=df['Order Date'].dt.year,values=['Sales','Profit']).T\n",
    "date"
   ]
  },
  {
   "cell_type": "code",
   "execution_count": 35,
   "id": "26854582",
   "metadata": {},
   "outputs": [
    {
     "data": {
      "text/plain": [
       "'temp-plot.html'"
      ]
     },
     "execution_count": 35,
     "metadata": {},
     "output_type": "execute_result"
    }
   ],
   "source": [
    "# Multiple line chart\n",
    "\n",
    "trace1=go.Scatter(\n",
    "        x=date.index,\n",
    "        y=date.Profit,\n",
    "        mode='lines',\n",
    "        name='profit'\n",
    ")\n",
    "\n",
    "trace2=go.Scatter(\n",
    "        x=date.index,\n",
    "        y=date.Sales,\n",
    "        mode='markers+lines',\n",
    "        name='sales'\n",
    ")\n",
    "\n",
    "data=[trace1,trace2]\n",
    "\n",
    "layout=go.Layout(title='Sales vs Profit chart')\n",
    "\n",
    "figure=go.Figure(data=data,layout=layout)\n",
    "\n",
    "pt.plot(figure)"
   ]
  },
  {
   "cell_type": "code",
   "execution_count": 38,
   "id": "f26befd8",
   "metadata": {},
   "outputs": [
    {
     "data": {
      "text/plain": [
       "'temp-plot.html'"
      ]
     },
     "execution_count": 38,
     "metadata": {},
     "output_type": "execute_result"
    }
   ],
   "source": [
    "trace=[go.Scatter(\n",
    "        x=date.index,\n",
    "        y=date[col],\n",
    "        mode='markers+lines',\n",
    "        name=col\n",
    ")for col in date.columns]\n",
    "\n",
    "layout=go.Layout(title='Sales vs Profit chart')\n",
    "\n",
    "figure=go.Figure(data=trace,layout=layout)\n",
    "\n",
    "pt.plot(figure)"
   ]
  },
  {
   "cell_type": "markdown",
   "id": "d08272be",
   "metadata": {},
   "source": [
    "### Combo Chart"
   ]
  },
  {
   "cell_type": "code",
   "execution_count": 26,
   "id": "129f0a12",
   "metadata": {},
   "outputs": [
    {
     "data": {
      "text/plain": [
       "'temp-plot.html'"
      ]
     },
     "execution_count": 26,
     "metadata": {},
     "output_type": "execute_result"
    }
   ],
   "source": [
    "Profit=go.Scatter(\n",
    "        x=order_priority1.index,\n",
    "        y=order_priority1.Profit,\n",
    "        mode='markers+lines',\n",
    "        name='Profit'\n",
    ")\n",
    "\n",
    "Sales=go.Bar(\n",
    "        x=order_priority1.index,\n",
    "        y=order_priority1.Sales,\n",
    "        name='Sales',\n",
    "        marker=dict(color='rgb(100,255,233)')\n",
    "        )\n",
    "\n",
    "data=[Profit,Sales]\n",
    "\n",
    "layout=go.Layout(title='Sales vs Profit chart')\n",
    "\n",
    "figure=go.Figure(data=data,layout=layout)\n",
    "\n",
    "pt.plot(figure)"
   ]
  },
  {
   "cell_type": "markdown",
   "id": "3b2eb471",
   "metadata": {},
   "source": [
    "### Bubble Chart"
   ]
  },
  {
   "cell_type": "code",
   "execution_count": 34,
   "id": "edbb3927",
   "metadata": {},
   "outputs": [
    {
     "data": {
      "text/plain": [
       "'temp-plot.html'"
      ]
     },
     "execution_count": 34,
     "metadata": {},
     "output_type": "execute_result"
    }
   ],
   "source": [
    "trace=[go.Scatter(\n",
    "        x=df.Sales,\n",
    "        y=df.Profit,\n",
    "        text=df['Customer Name'],\n",
    "        mode='markers',\n",
    "        marker=dict(size=150*df.Discount)\n",
    ")]\n",
    "\n",
    "layout=go.Layout(title='Sales vs Profit chart',\n",
    "                 xaxis=dict(title='Sales'),\n",
    "                 yaxis=dict(title='Profit'),\n",
    "                 hovermode='closest')\n",
    "\n",
    "figure=go.Figure(data=trace,layout=layout)\n",
    "\n",
    "pt.plot(figure)"
   ]
  },
  {
   "cell_type": "code",
   "execution_count": 48,
   "id": "7f2fa58f",
   "metadata": {},
   "outputs": [
    {
     "name": "stdout",
     "output_type": "stream",
     "text": [
      "3267356.3609999996\n",
      "\n",
      "3267356.3609999996\n"
     ]
    }
   ],
   "source": [
    "print(df.Sales[df['Order Priority']=='High'].sum())\n",
    "print()\n",
    "print(df['Sales'][df['Order Priority']=='High'].sum())"
   ]
  },
  {
   "cell_type": "code",
   "execution_count": 51,
   "id": "3fb8c309",
   "metadata": {},
   "outputs": [
    {
     "data": {
      "text/plain": [
       "'temp-plot.html'"
      ]
     },
     "execution_count": 51,
     "metadata": {},
     "output_type": "execute_result"
    }
   ],
   "source": [
    "high=go.Scatter(\n",
    "        x=df.Sales[df['Order Priority']=='High'],\n",
    "        y=df.Profit[df['Order Priority']=='High'],\n",
    "        name='High',\n",
    "        mode='markers',\n",
    "        marker=dict(size=150*df.Discount[df['Order Priority']=='High']))\n",
    "\n",
    "medium=go.Scatter(\n",
    "        x=df.Sales[df['Order Priority']=='Medium'],\n",
    "        y=df.Profit[df['Order Priority']=='Medium'],\n",
    "        name='Medium',\n",
    "        mode='markers',\n",
    "        marker=dict(size=150*df.Discount[df['Order Priority']=='Medium']))\n",
    "\n",
    "low=go.Scatter(\n",
    "        x=df.Sales[df['Order Priority']=='Low'],\n",
    "        y=df.Profit[df['Order Priority']=='Low'],\n",
    "        name='Low',\n",
    "        mode='markers',\n",
    "        marker=dict(size=150*df.Discount[df['Order Priority']=='Low']))\n",
    "\n",
    "trace=[high,medium,low]\n",
    "\n",
    "layout=go.Layout(title='Sales vs Profit chart',\n",
    "                 xaxis=dict(title='Sales'),\n",
    "                 yaxis=dict(title='Profit'),\n",
    "                 hovermode='closest')\n",
    "\n",
    "figure=go.Figure(data=trace,layout=layout)\n",
    "\n",
    "pt.plot(figure)"
   ]
  },
  {
   "cell_type": "markdown",
   "id": "b66877d8",
   "metadata": {},
   "source": [
    "### Histogram"
   ]
  },
  {
   "cell_type": "code",
   "execution_count": 53,
   "id": "ef942945",
   "metadata": {},
   "outputs": [
    {
     "data": {
      "text/plain": [
       "'temp-plot.html'"
      ]
     },
     "execution_count": 53,
     "metadata": {},
     "output_type": "execute_result"
    }
   ],
   "source": [
    "Profit=go.Histogram(\n",
    "        x=df.Profit,\n",
    "        name='Profit',\n",
    "        opacity=0.5)\n",
    "\n",
    "Sales=go.Histogram(\n",
    "        x=df.Sales,\n",
    "        name='Sales',\n",
    "        opacity=0.5)\n",
    "\n",
    "data=[Profit,Sales]\n",
    "\n",
    "layout=go.Layout(title='Sales vs Profit Distribution')\n",
    "\n",
    "figure=go.Figure(data=data,layout=layout)\n",
    "\n",
    "pt.plot(figure)"
   ]
  },
  {
   "cell_type": "markdown",
   "id": "71da7e4d",
   "metadata": {},
   "source": [
    "### Box Plot"
   ]
  },
  {
   "cell_type": "code",
   "execution_count": 58,
   "id": "7dd37141",
   "metadata": {},
   "outputs": [
    {
     "data": {
      "text/plain": [
       "Corporate         3076\n",
       "Home Office       2032\n",
       "Consumer          1649\n",
       "Small Business    1642\n",
       "Name: Customer Segment, dtype: int64"
      ]
     },
     "execution_count": 58,
     "metadata": {},
     "output_type": "execute_result"
    }
   ],
   "source": [
    "df['Customer Segment'].value_counts()"
   ]
  },
  {
   "cell_type": "code",
   "execution_count": 59,
   "id": "9ab98003",
   "metadata": {},
   "outputs": [],
   "source": [
    "cor=df.Sales[df['Customer Segment']=='Corporate']\n",
    "ho=df.Sales[df['Customer Segment']=='Home Office']\n",
    "con=df.Sales[df['Customer Segment']=='Consumer']\n",
    "sb=df.Sales[df['Customer Segment']=='Small Business']"
   ]
  },
  {
   "cell_type": "code",
   "execution_count": 61,
   "id": "a10e0804",
   "metadata": {},
   "outputs": [
    {
     "data": {
      "text/plain": [
       "'temp-plot.html'"
      ]
     },
     "execution_count": 61,
     "metadata": {},
     "output_type": "execute_result"
    }
   ],
   "source": [
    "t1=go.Box(y=cor,name='Corporate')\n",
    "t2=go.Box(y=ho,name='Home Office')\n",
    "t3=go.Box(y=con,name='Consumer')\n",
    "t4=go.Box(y=sb,name='Small Business')\n",
    "\n",
    "data=[t1,t2,t3,t4]\n",
    "\n",
    "layout=go.Layout(title='Distribution of Sales by Customer Segment')\n",
    "\n",
    "figure=go.Figure(data=data,layout=layout)\n",
    "\n",
    "pt.plot(figure)"
   ]
  },
  {
   "cell_type": "markdown",
   "id": "05cf7449",
   "metadata": {},
   "source": [
    "### Scatter Plot Matrix"
   ]
  },
  {
   "cell_type": "code",
   "execution_count": 2,
   "id": "c7f28765",
   "metadata": {},
   "outputs": [],
   "source": [
    "import plotly.figure_factory as ff"
   ]
  },
  {
   "cell_type": "code",
   "execution_count": 9,
   "id": "35610977",
   "metadata": {},
   "outputs": [
    {
     "data": {
      "text/plain": [
       "'temp-plot.html'"
      ]
     },
     "execution_count": 9,
     "metadata": {},
     "output_type": "execute_result"
    }
   ],
   "source": [
    "order_data=df.loc[:,['Sales','Profit','Discount']]\n",
    "order_data['index']=np.arange(1,len(order_data)+1)\n",
    "\n",
    "fig=ff.create_scatterplotmatrix(order_data,diag='box',index='index',colormap='Portland',colormap_type='cat')\n",
    "pt.plot(fig)"
   ]
  },
  {
   "cell_type": "code",
   "execution_count": 10,
   "id": "13d2f749",
   "metadata": {},
   "outputs": [
    {
     "data": {
      "text/plain": [
       "'temp-plot.html'"
      ]
     },
     "execution_count": 10,
     "metadata": {},
     "output_type": "execute_result"
    }
   ],
   "source": [
    "order_data=df.loc[:,['Sales','Profit','Discount','Order Priority']]\n",
    "\n",
    "\n",
    "fig=ff.create_scatterplotmatrix(order_data,diag='box',index='Order Priority',colormap='Portland',colormap_type='cat')\n",
    "pt.plot(fig)"
   ]
  },
  {
   "cell_type": "code",
   "execution_count": null,
   "id": "07e0549a",
   "metadata": {},
   "outputs": [],
   "source": []
  }
 ],
 "metadata": {
  "kernelspec": {
   "display_name": "Python 3 (ipykernel)",
   "language": "python",
   "name": "python3"
  },
  "language_info": {
   "codemirror_mode": {
    "name": "ipython",
    "version": 3
   },
   "file_extension": ".py",
   "mimetype": "text/x-python",
   "name": "python",
   "nbconvert_exporter": "python",
   "pygments_lexer": "ipython3",
   "version": "3.9.12"
  }
 },
 "nbformat": 4,
 "nbformat_minor": 5
}
